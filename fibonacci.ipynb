{
 "cells": [
  {
   "cell_type": "code",
   "execution_count": 3,
   "id": "f88d196f",
   "metadata": {},
   "outputs": [
    {
     "name": "stdout",
     "output_type": "stream",
     "text": [
      "The first 12 fibonacci numbers are [1, 1, 2, 3, 5, 8, 13, 21, 34, 55, 89, 144, 233]\n"
     ]
    }
   ],
   "source": [
    "q1 = int(input('How many Fibonacci numbers do you want to generate: '))\n",
    "apt = []\n",
    "apt.append(1)\n",
    "apt.append(1)\n",
    "\n",
    "# fibss.append(1)\n",
    "\n",
    "for i in range(1,q1):\n",
    "    num = apt[i] + apt[i-1]\n",
    "    apt.append(num)\n",
    "print(f\"The first {q1} fibonacci numbers are\", apt)\n"
   ]
  }
 ],
 "metadata": {
  "kernelspec": {
   "display_name": "base",
   "language": "python",
   "name": "python3"
  },
  "language_info": {
   "codemirror_mode": {
    "name": "ipython",
    "version": 3
   },
   "file_extension": ".py",
   "mimetype": "text/x-python",
   "name": "python",
   "nbconvert_exporter": "python",
   "pygments_lexer": "ipython3",
   "version": "3.9.12"
  },
  "vscode": {
   "interpreter": {
    "hash": "39c7b37d6762cfe19229bab84e4ee64294204dff90d2328d694afe7c1bd1a71d"
   }
  }
 },
 "nbformat": 4,
 "nbformat_minor": 5
}
